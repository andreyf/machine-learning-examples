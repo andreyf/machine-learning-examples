{
 "cells": [
  {
   "cell_type": "markdown",
   "metadata": {},
   "source": [
    "#Logistic Regression and Gradient Descent\n",
    "\n",
    "Logistic regression is an excellent tool to know for classification problems. Classification problems are problems where you are trying to classify observations into groups. To make our examples more concrete, we will consider the [Iris dataset](https://archive.ics.uci.edu/ml/datasets/Iris). The iris dataset contains 4 attributes for 3 types of iris plants. The purpose is to classify which plant you have just based on the attributes. To simplify things, we will only consider 2 attributes and 2 classes. Here are the data visually:"
   ]
  },
  {
   "cell_type": "code",
   "execution_count": 79,
   "metadata": {
    "collapsed": false
   },
   "outputs": [
    {
     "data": {
      "image/png": "[encoded data removed]",
      "text/plain": [
       "<matplotlib.figure.Figure at 0x11219c5d0>"
      ]
     },
     "metadata": {},
     "output_type": "display_data"
    }
   ],
   "source": [
    "from sklearn import datasets\n",
    "import matplotlib.pyplot as plt\n",
    "import seaborn as sns\n",
    "%matplotlib inline\n",
    "sns.set(style='ticks', palette='Set2')\n",
    "import pandas as pd\n",
    "import numpy as np\n",
    "import math\n",
    "from __future__ import division\n",
    "\n",
    "data = datasets.load_iris()\n",
    "X = data.data[:100, :2]\n",
    "y = data.target[:100]\n",
    "X_full = data.data[:100, :]\n",
    "\n",
    "setosa = plt.scatter(X[:50,0], X[:50,1], c='b')\n",
    "versicolor = plt.scatter(X[50:,0], X[50:,1], c='r')\n",
    "plt.xlabel(\"Sepal Length\")\n",
    "plt.ylabel(\"Sepal Width\")\n",
    "plt.legend((setosa, versicolor), (\"Setosa\", \"Versicolor\"))\n",
    "sns.despine()"
   ]
  },
  {
   "cell_type": "markdown",
   "metadata": {},
   "source": [
    "Wow! This is nice - the two classes are completely separate. Now this obviously is a toy example, but let's now think about how to create a learning algorithm to give us the probability that given Sepal Width and Sepal Length the plant is Setosa. So if our algorithm returns .9 we place 90% probability on the plant being Setosa and 10% probability on it being Versicolor.\n",
    "\n",
    "#Logisitic Function\n",
    "\n",
    "So we want to return a value between 0 and 1 to make sure we are actually representing a probability. To do this we will make use of the logistic function. The logistic function mathematically looks like this: $$y = \\frac{1}{1 + e^{-x}}$$ Let's take a look at the plot:"
   ]
  },
  {
   "cell_type": "code",
   "execution_count": 35,
   "metadata": {
    "collapsed": false
   },
   "outputs": [
    {
     "data": {
      "image/png": "[encoded data removed]",
      "text/plain": [
       "<matplotlib.figure.Figure at 0x111084510>"
      ]
     },
     "metadata": {},
     "output_type": "display_data"
    }
   ],
   "source": [
    "x_values = np.linspace(-5, 5, 100)\n",
    "y_values = [1 / (1 + math.e**(-x)) for x in x_values]\n",
    "plt.plot(x_values, y_values)\n",
    "plt.axhline(.5)\n",
    "plt.axvline(0)\n",
    "sns.despine()"
   ]
  },
  {
   "cell_type": "markdown",
   "metadata": {},
   "source": [
    "You can see why this is a great function for a probability measure. The y-value represents the probability and only ranges between 0 and 1. Also, for an x value of zero you get a .5 probability and as you get more positive x values you get a higher probability and more negative x values a lower probability.\n",
    "\n",
    "#Make use of your data\n",
    "\n",
    "Okay - so this is nice, but how the heck do we use it? Well we know we have two attributes - Sepal length and Sepal width - that we need to somehow use in our logistic function. One pretty obvious thing we could do is: \n",
    "\n",
    "$$x = \\beta_{0} + \\beta{1}SW + \\beta_{2}SL $$ \n",
    "\n",
    "Where SW is our value for sepal width and SL is our value for sepal length. For those of you familiar with [Linear Regression](http://en.wikipedia.org/wiki/Linear_regression) this looks very familiar. Basically we are assuming that x is a linear combination of our data plus an intercept. For example, say we have a plant with a sepal width of 3.5 and a sepal length of 5 and some oracle tells us that $\\beta_{0} = 1$, $\\beta_{1} = 2$, and $\\beta_{2} = 4$. This would imply: \n",
    "\n",
    "$$x = 1 + (2 * 3.5) + (4 * 5) = 28$$ \n",
    "\n",
    "Plugging this into our logistic function gives: \n",
    "\n",
    "$$\\frac{1}{1 + e^{-28}} = .99$$ \n",
    "\n",
    "So we would give a 99% probability to a plant with those dimensions as being Setosa.\n",
    "\n",
    "#Learning\n",
    "\n",
    "Okay - makes sense. But who is this oracle giving us our $\\beta$ values? Good question! This is where the learning in machine learning comes in :). We will learn our $\\beta$ values.\n",
    "\n",
    "##Step 1 - Define your cost function\n",
    "\n",
    "If you have been around machine learning, you probably hear the phrase \"cost function\" thrown around. Before we get to that, though, let's do some thinking. We are trying to choose $\\beta$ values in order to maximize the probability of correctly classifying our plants. That is just the definition of our problem. Let's say someone did give us some $\\beta$ values, how would we determine if they were good values or not? We saw above how to get the probability for one example. Now imagine we did this for all our plant observations - all 100. We would now have 100 probability scores. What we would hope is that for the Setosa plants, the probability values are close to 1 and for the Versicolor plants the probability is close to 0.\n",
    "\n",
    "But we don't care about getting the correct probability for just one observation, we want to correctly classify all our observations. If we assume our data are [independent and identically distributed](http://en.wikipedia.org/wiki/Independent_and_identically_distributed_random_variables), we can just take the product of all our individually calculated probabilities and that is the value we want to maximize. So in math: $$\\prod_{Setosa}\\frac{1}{1 + e^{-(\\beta_{0} + \\beta{1}SW + \\beta_{2}SL)}}\\prod_{Versicolor}1 - \\frac{1}{1 + e^{-(\\beta_{0} + \\beta{1}SW + \\beta_{2}SL)}}$$ If we define the logistic function as: $$h(x) = \\frac{1}{1 + e^{-x}}$$ and x as: $$x = \\beta_{0} + \\beta{1}SW + \\beta_{2}SL$$ This can be simplified to: $$\\prod_{Setosa}h(x)\\prod_{Versicolor}1 - h(x)$$ \n",
    "\n",
    "The $\\prod$ symbol means take the product for the observations classified as that plant. Here we are making use of the fact that are data are labeled, so this is called supervised learning. Also, you will notice that for Versicolor observations we are taking 1 minus the logistic function. That is because we are trying to find a value to maximize, and since Versicolor observations should have a probability close to zero, 1 minus the probability should be close to 1. So now we know that we want to maximize the following: $$\\prod_{Setosa}h(x)\\prod_{Versicolor}1 - h(x)$$ \n",
    "\n",
    "So we now have a value we are trying to maximize. Typically people switch this to minimization by making it negative: $$-\\prod_{Setosa}h(x)\\prod_{Versicolor}1 - h(x)$$ Note: minimizing the negative is the same as maximizing the positive. The above formula would be called our cost function.\n",
    "\n",
    "##Step 2 - Gradients\n",
    "\n",
    "So now we have a value to minimize, but how do we actually find the $\\beta$ values that minimize our cost function? Do we just try a bunch? That doesn't seem like a good idea...\n",
    "\n",
    "This is where [convex optimization](http://en.wikipedia.org/wiki/Convex_optimization) comes into play. We know that the logistic cost function is [convex](http://en.wikipedia.org/wiki/Convex_function) - just trust me on this. And since it is convex, it has a single global minimum which we can converge to using [gradient descent](http://en.wikipedia.org/wiki/Gradient_descent).\n",
    "\n",
    "Here is an image of a convex function:"
   ]
  },
  {
   "cell_type": "code",
   "execution_count": 31,
   "metadata": {
    "collapsed": false
   },
   "outputs": [
    {
     "data": {
      "text/html": [
       "<img src=\"http://www.me.utexas.edu/~jensen/ORMM/models/unit/nonlinear/subunits/terminology/graphics/convex1.gif\"/>"
      ],
      "text/plain": [
       "<IPython.core.display.Image object>"
      ]
     },
     "execution_count": 31,
     "metadata": {},
     "output_type": "execute_result"
    }
   ],
   "source": [
    "from IPython.display import Image\n",
    "Image(url=\"http://www.me.utexas.edu/~jensen/ORMM/models/unit/nonlinear/subunits/terminology/graphics/convex1.gif\")"
   ]
  },
  {
   "cell_type": "markdown",
   "metadata": {},
   "source": [
    "Now you can imagine, that this curve is our cost function defined above and that if we just pick a point on the curve, and then follow it down to the minimum we would eventually reach the minimum, which is our goal. [Here](http://vis.supstat.com/2013/03/gradient-descent-algorithm-with-r/) is an animation of that. That is the idea behind gradient descent.\n",
    "\n",
    "So the way we follow the curve is by calculating the gradients or the first derivatives of the cost function with respect to each $\\beta$. So lets do some math. First realize that we can also define the cost function as:\n",
    "\n",
    "$$-\\sum_{i=1}^{100}y_{i}log(h(x_{i})) + (1-y_{i})log(1-h(x_{i}))$$\n",
    "\n",
    "This is because when we take the log our product becomes a sum. See [log rules](http://www.mathwords.com/l/logarithm_rules.htm). And if we define $y_{i}$ to be 1 when the observation is Setosa and 0 when Versicolor, then we only do h(x) for Setosa and 1 - h(x) for Versicolor. So lets take the derivative of this new version of our cost function with respect to $\\beta_{0}$. Remember that our $\\beta_{0}$ is in our x value. So remember that the derivative of log(x) is $\\frac{1}{x}$, so we get (for each observation): \n",
    "\n",
    "$$\\frac{y_{i}}{h(x_{i})} + \\frac{1-y_{i}}{1-h(x_{i})}$$ \n",
    "\n",
    "And using the [quotient rule](https://www.math.hmc.edu/calculus/tutorials/quotient_rule/) we see that the derivative of h(x) is:\n",
    "\n",
    "$$\\frac{e^{-x}}{(1+e^{-x})^{2}} = \\frac{1}{1+e^{-x}}(1 - \\frac{1}{1+e^{-x}}) = h(x)(1-h(x))$$ \n",
    "\n",
    "And the derivative of x with respect to $\\beta_{0}$ is just 1. Putting it all together we get:\n",
    "\n",
    "$$\\frac{y_{i}h(x_{i})(1-h(x_{i}))}{h(x_{i})} - \\frac{(1-y_{i})h(x_{i})(1-h(x_{i}))}{1-h(x_{i})}$$ \n",
    "\n",
    "Simplify to: \n",
    "\n",
    "$$y_{i}(1-h(x_{i})) - (1 - y_{i})h(x_{i}) = y_{i}-y_{i}h(x_{i}) - h(x_{i})+y_{i}h(x_{i}) = y_{i} - h(x_{i})$$\n",
    "\n",
    "Bring in the neative and sum and we get the partial derivative with respect to $\\beta_0$ to be:\n",
    "\n",
    "$$\\sum_{i=1}^{100}h(x_{i}) - y_{i}$$ \n",
    "\n",
    "Now the other partial derivaties are easy. The only change is now the derivative for $x_{i}$ is no longer 1. For $\\beta_{1}$ it is $SW_{i}$ and for $\\beta_{2}$ it is $SL_{i}$. So the partial derivative for $\\beta_{1}$ is:\n",
    "\n",
    "$$\\sum_{i=1}^{100}(h(x_{i}) - y_{i})SW_{i}$$ \n",
    "\n",
    "For $\\beta_{2}$: \n",
    "\n",
    "$$\\sum_{i=1}^{100}(h(x_{i}) - y_{i})SL_{i}$$\n",
    "\n",
    "##Step 3 - Gradient Descent\n",
    "\n",
    "So now that we have our gradients, we can use the gradient descent algorithm to find the values for our $\\beta$s that minimize our cost function. The gradient descent algorithm is very simple:\n",
    "* Initially guess any values for your $\\beta$ values\n",
    "* Repeat until converge:\n",
    "    * $\\beta_{i} = \\beta_{i} - (\\alpha *$ gradient with respect to $\\beta_{i})$ for $i = 0, 1, 2$ in our case\n",
    "\n",
    "Here $\\alpha$ is our learning rate. Basically how large of steps to take on our cost curve. What we are doing is taking our current $\\beta$ value and then subtracting some fraction of the gradient. We subtract because the gradient is the direction of greatest increase, but we want the direction of greatest decrease, so we subtract. In other words, we pick a random point on our cost curve, check to see which direction we need to go to get closer to the minimum by using the negative of the gradient, and then update our $\\beta$ values to move closer to the minimum. Repeat until converge means keep updating our $\\beta$ values until our cost value converges - or stops decreasing - meaning we have reached the minimum. Also, it is important to update all the $\\beta$ values at the same time. Meaning that you use the same previous $\\beta$ values to update all the next $\\beta$ values."
   ]
  },
  {
   "cell_type": "markdown",
   "metadata": {},
   "source": [
    "##Gradient Descent Tricks\n",
    "I think most of this are from [Andrew Ng's machine learning course](https://www.coursera.org/course/ml)\n",
    "* Normalize variables:\n",
    "    * This means for each variable subtract the mean and divide by standard deviation.\n",
    "* Learning rate:\n",
    "    * If not converging, the learning rate needs to be smaller - but will take longer to converge\n",
    "    * Good values to try ..., .001, .003, .01, .03, .1, .3, 1, 3, ...\n",
    "* Declare converges if cost decreases by less than $10^{-3}$ (this is just a decent suggestion)\n",
    "* Plot convergence as a check\n",
    "\n",
    "#Lets see some code\n",
    "\n",
    "Below is code that implements everything we discussed. It is vectorized, though, so things are represented as vectors and matricies. It should still be fairly clear what is going on (I hope...if not, please let me know and I can put out a version closer to the math). Also, I didn't implement an intercept (so no $\\beta_{0}$) feel free to add this if you wish :)"
   ]
  },
  {
   "cell_type": "code",
   "execution_count": 37,
   "metadata": {
    "collapsed": false
   },
   "outputs": [],
   "source": [
    "def logistic_func(theta, x):\n",
    "    return float(1) / (1 + math.e**(-x.dot(theta)))\n",
    "def log_gradient(theta, x, y):\n",
    "    first_calc = logistic_func(theta, x) - np.squeeze(y)\n",
    "    final_calc = first_calc.T.dot(x)\n",
    "    return final_calc\n",
    "def cost_func(theta, x, y):\n",
    "    log_func_v = logistic_func(theta,x)\n",
    "    y = np.squeeze(y)\n",
    "    step1 = y * np.log(log_func_v)\n",
    "    step2 = (1-y) * np.log(1 - log_func_v)\n",
    "    final = -step1 - step2\n",
    "    return np.mean(final)\n",
    "def grad_desc(theta_values, X, y, lr=.001, converge_change=.001):\n",
    "    #normalize\n",
    "    X = (X - np.mean(X, axis=0)) / np.std(X, axis=0)\n",
    "    #setup cost iter\n",
    "    cost_iter = []\n",
    "    cost = cost_func(theta_values, X, y)\n",
    "    cost_iter.append([0, cost])\n",
    "    change_cost = 1\n",
    "    i = 1\n",
    "    while(change_cost > converge_change):\n",
    "        old_cost = cost\n",
    "        theta_values = theta_values - (lr * log_gradient(theta_values, X, y))\n",
    "        cost = cost_func(theta_values, X, y)\n",
    "        cost_iter.append([i, cost])\n",
    "        change_cost = old_cost - cost\n",
    "        i+=1\n",
    "    return theta_values, np.array(cost_iter)\n",
    "def pred_values(theta, X, hard=True):\n",
    "    #normalize\n",
    "    X = (X - np.mean(X, axis=0)) / np.std(X, axis=0)\n",
    "    pred_prob = logistic_func(theta, X)\n",
    "    pred_value = np.where(pred_prob >= .5, 1, 0)\n",
    "    if hard:\n",
    "        return pred_value\n",
    "    return pred_prob"
   ]
  },
  {
   "cell_type": "markdown",
   "metadata": {},
   "source": [
    "#Put it to the test\n",
    "\n",
    "So here I will use the above code for our toy example. I initalize our $\\beta$ values to all be zero, then run gradient descent to learn the $\\beta$ values."
   ]
  },
  {
   "cell_type": "code",
   "execution_count": 54,
   "metadata": {
    "collapsed": false
   },
   "outputs": [
    {
     "name": "stdout",
     "output_type": "stream",
     "text": [
      "[-1.52645347  1.39922382]\n"
     ]
    }
   ],
   "source": [
    "shape = X.shape[1]\n",
    "y_flip = np.logical_not(y) #flip Setosa to be 1 and Versicolor to zero to be consistent\n",
    "betas = np.zeros(shape)\n",
    "fitted_values, cost_iter = grad_desc(betas, X, y_flip)\n",
    "print(fitted_values)"
   ]
  },
  {
   "cell_type": "markdown",
   "metadata": {},
   "source": [
    "So I get a value of -1.5 for $\\beta_1$ and a value of 1.4 for $\\beta_2$. Remember that $\\beta_1$ is my coefficient for Sepal Length and $\\beta_2$ for Sepal Width. Meaning that as sepal width becomes larger I would have a stronger prediction for Setosa and as Sepal Length becomes larger I have more confidence it the plant being Versicolor. Which makes sense when looking at our earlier plot.\n",
    "\n",
    "Now let's make some predictions (Note: since we are returning a probability, if the probability is greater than or equal to 50% then I assign the value to Setosa - or a value of 1):"
   ]
  },
  {
   "cell_type": "code",
   "execution_count": 56,
   "metadata": {
    "collapsed": false
   },
   "outputs": [
    {
     "data": {
      "text/plain": [
       "array([1, 1, 1, 1, 1, 1, 1, 1, 1, 1, 1, 1, 1, 1, 1, 1, 1, 1, 1, 1, 1, 1, 1,\n",
       "       1, 1, 1, 1, 1, 1, 1, 1, 1, 1, 1, 1, 1, 1, 1, 1, 1, 1, 0, 1, 1, 1, 1,\n",
       "       1, 1, 1, 1, 0, 0, 0, 0, 0, 0, 0, 0, 0, 0, 0, 0, 0, 0, 0, 0, 0, 0, 0,\n",
       "       0, 0, 0, 0, 0, 0, 0, 0, 0, 0, 0, 0, 0, 0, 0, 0, 0, 0, 0, 0, 0, 0, 0,\n",
       "       0, 0, 0, 0, 0, 0, 0, 0])"
      ]
     },
     "execution_count": 56,
     "metadata": {},
     "output_type": "execute_result"
    }
   ],
   "source": [
    "predicted_y = pred_values(fitted_values, X)\n",
    "predicted_y"
   ]
  },
  {
   "cell_type": "markdown",
   "metadata": {
    "collapsed": false
   },
   "source": [
    "And let's see how accurate we are:"
   ]
  },
  {
   "cell_type": "code",
   "execution_count": 70,
   "metadata": {
    "collapsed": false
   },
   "outputs": [
    {
     "data": {
      "text/plain": [
       "99"
      ]
     },
     "execution_count": 70,
     "metadata": {},
     "output_type": "execute_result"
    }
   ],
   "source": [
    "np.sum(y_flip == predicted_y)"
   ]
  },
  {
   "cell_type": "markdown",
   "metadata": {},
   "source": [
    "Cool - we got all but 1 right. So that is pretty good. But again note: this is a very simple example, where getting all correct is actually pretty easy and we are looking at training accuracy. But that is not the point - we just want to make sure our algorithm is working.\n",
    "\n",
    "We can do another check by taking a look at how our gradient descent converged:"
   ]
  },
  {
   "cell_type": "code",
   "execution_count": 99,
   "metadata": {
    "collapsed": false
   },
   "outputs": [
    {
     "data": {
      "image/png": "[encoded data removed]",
      "text/plain": [
       "<matplotlib.figure.Figure at 0x111bc2d10>"
      ]
     },
     "metadata": {},
     "output_type": "display_data"
    }
   ],
   "source": [
    "plt.plot(cost_iter[:,0], cost_iter[:,1])\n",
    "plt.ylabel(\"Cost\")\n",
    "plt.xlabel(\"Iteration\")\n",
    "sns.despine()"
   ]
  },
  {
   "cell_type": "markdown",
   "metadata": {},
   "source": [
    "You can see that as we ran our algorithm, we continued to decrease our cost function and we stopped right at about when we see the decrease in cost to level out. Nice - everything seems to be working!\n",
    "\n",
    "Lastly, another nice check is to see how well a packaged version of the algorithm does:"
   ]
  },
  {
   "cell_type": "code",
   "execution_count": 66,
   "metadata": {
    "collapsed": false
   },
   "outputs": [
    {
     "data": {
      "text/plain": [
       "99"
      ]
     },
     "execution_count": 66,
     "metadata": {},
     "output_type": "execute_result"
    }
   ],
   "source": [
    "from sklearn import linear_model\n",
    "logreg = linear_model.LogisticRegression()\n",
    "logreg.fit(X, y_flip)\n",
    "sum(y_flip == logreg.predict(X))"
   ]
  },
  {
   "cell_type": "markdown",
   "metadata": {},
   "source": [
    "Cool - they also get 99 / 100 correct. Looking good :)"
   ]
  },
  {
   "cell_type": "markdown",
   "metadata": {},
   "source": [
    "#Advanced Optimization \n",
    "\n",
    "So gradient descent is one way to learn our $\\beta$ values, but there are some other ways too. Basically these are more advanced algorithms that I won't explain, but that can be easily run in Python once you have defined your cost function and your gradients. These algorithms are:\n",
    "\n",
    "* BFGS\n",
    "    * http://docs.scipy.org/doc/scipy-0.14.0/reference/generated/scipy.optimize.fmin_bfgs.html\n",
    "* L-BFGS: Like BFGS but uses limited memory\n",
    "    * http://docs.scipy.org/doc/scipy/reference/generated/scipy.optimize.fmin_l_bfgs_b.html\n",
    "* Conjugate Gradient\n",
    "    * http://docs.scipy.org/doc/scipy/reference/generated/scipy.optimize.fmin_cg.html\n",
    "\n",
    "Here are the very high level advantages / disadvantages of using one of these algorithms over gradient descent:\n",
    "\n",
    "* Advantages\n",
    "    * Don't need to pick learning rate\n",
    "    * Often run faster (not always the case)\n",
    "    * Can numerically approximate gradient for you (doesn't always work out well)\n",
    "* Disadvantages\n",
    "    * More complex\n",
    "    * More of a black box unless you learn the specifics\n",
    "    \n",
    "The one I hear most about these days is L-BFGS, so I will use it as my example. To use the others, all you do is replace the scipy function with the one in the links above. All the arguments remain the same. Also, I will now use all 4 features as opposed to just 2.\n",
    "\n",
    "##L-BFGS"
   ]
  },
  {
   "cell_type": "code",
   "execution_count": 89,
   "metadata": {
    "collapsed": false
   },
   "outputs": [
    {
     "data": {
      "text/plain": [
       "array([ -1.39630462,   5.3512917 ,  -9.41860088, -10.84876254])"
      ]
     },
     "execution_count": 89,
     "metadata": {},
     "output_type": "execute_result"
    }
   ],
   "source": [
    "from scipy.optimize import fmin_l_bfgs_b\n",
    "#normalize data\n",
    "norm_X = (X_full - np.mean(X_full, axis=0)) / np.std(X_full, axis=0)\n",
    "myargs = (norm_X, y_flip)\n",
    "betas = np.zeros(norm_X.shape[1])\n",
    "lbfgs_fitted = fmin_l_bfgs_b(cost_func, x0=betas, args=myargs, fprime=log_gradient)\n",
    "lbfgs_fitted[0]"
   ]
  },
  {
   "cell_type": "markdown",
   "metadata": {},
   "source": [
    "Above are the $\\beta$ values we have learned. Now let's make some predictions."
   ]
  },
  {
   "cell_type": "code",
   "execution_count": 90,
   "metadata": {
    "collapsed": false
   },
   "outputs": [
    {
     "data": {
      "text/plain": [
       "100"
      ]
     },
     "execution_count": 90,
     "metadata": {},
     "output_type": "execute_result"
    }
   ],
   "source": [
    "lbfgs_predicted = pred_values(lbfgs_fitted[0], norm_X, hard=True)\n",
    "sum(lbfgs_predicted == y_flip)"
   ]
  },
  {
   "cell_type": "markdown",
   "metadata": {},
   "source": [
    "A perfect 100 - not bad."
   ]
  },
  {
   "cell_type": "markdown",
   "metadata": {},
   "source": [
    "##Compare with Scikit-Learn"
   ]
  },
  {
   "cell_type": "code",
   "execution_count": 94,
   "metadata": {
    "collapsed": false
   },
   "outputs": [
    {
     "data": {
      "text/plain": [
       "100"
      ]
     },
     "execution_count": 94,
     "metadata": {},
     "output_type": "execute_result"
    }
   ],
   "source": [
    "from sklearn import linear_model\n",
    "logreg = linear_model.LogisticRegression()\n",
    "logreg.fit(norm_X, y_flip)\n",
    "sum(y_flip == logreg.predict(norm_X))"
   ]
  },
  {
   "cell_type": "markdown",
   "metadata": {},
   "source": [
    "##Compare with our implementation"
   ]
  },
  {
   "cell_type": "code",
   "execution_count": 98,
   "metadata": {
    "collapsed": false
   },
   "outputs": [
    {
     "data": {
      "text/plain": [
       "100"
      ]
     },
     "execution_count": 98,
     "metadata": {},
     "output_type": "execute_result"
    }
   ],
   "source": [
    "fitted_values, cost_iter = grad_desc(betas, norm_X, y_flip)\n",
    "predicted_y = pred_values(fitted_values, norm_X)\n",
    "sum(predicted_y == y_flip)"
   ]
  },
  {
   "cell_type": "markdown",
   "metadata": {},
   "source": [
    "So with all 4 features we all get a perfect accuracy, which is to be expected given that the classes are linearlly seperable. So no surprise here, but it is nice to know things are working :). Note: This example doesn't really let L-BFGS shine. The purpose of this post, though, isn't to evaluate advanced optimization techniques. If this is your interest try running some tests with much larger data with many more features and less seperable classes."
   ]
  },
  {
   "cell_type": "markdown",
   "metadata": {},
   "source": [
    "#Conclusion"
   ]
  },
  {
   "cell_type": "markdown",
   "metadata": {},
   "source": [
    "I hope this little tutorial helped you understand in some depth logistic regression. It is a powerful tool that is good to know. It can even become more powerful with things like [regularization](http://en.wikipedia.org/wiki/Regularization_%28mathematics%29).\n",
    "\n",
    "Even more so, I hope this helped explain the steps of how a learning algorithm might be designed. Having a grasp on what a cost function is and how to minimize it with techniques such as gradient descent can really help understand some of the machine learning literature. \n",
    "\n",
    "Anyway - if you have any questions or comments. I would love to hear them!"
   ]
  }
 ],
 "metadata": {
  "kernelspec": {
   "display_name": "Python 2",
   "language": "python",
   "name": "python2"
  },
  "language_info": {
   "codemirror_mode": {
    "name": "ipython",
    "version": 2
   },
   "file_extension": ".py",
   "mimetype": "text/x-python",
   "name": "python",
   "nbconvert_exporter": "python",
   "pygments_lexer": "ipython2",
   "version": "2.7.9"
  }
 },
 "nbformat": 4,
 "nbformat_minor": 0
}
